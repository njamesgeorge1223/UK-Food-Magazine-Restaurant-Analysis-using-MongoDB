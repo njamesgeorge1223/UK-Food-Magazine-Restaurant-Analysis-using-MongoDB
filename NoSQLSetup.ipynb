{
 "cells": [
  {
   "cell_type": "code",
   "execution_count": 1,
   "id": "6e504ae8",
   "metadata": {},
   "outputs": [],
   "source": [
    "#*******************************************************************************************\n",
    " #\n",
    " #  File Name:  NoSQLSetup.ipynb\n",
    " #\n",
    " #  File Description:\n",
    " #      This interactive Python notebook, NoSQLSetup.ipynb, uses the Python module,\n",
    " #      PyMongo, to create and populate a MongoDB Database, uk_food, and Collection,\n",
    " #      establishments, for the purpose of evaluating restaurant ratings data for\n",
    " #      the editors of a food magazine, Eat Safe, Love.\n",
    " #\n",
    " #\n",
    " #  Date            Description                             Programmer\n",
    " #  ----------      ------------------------------------    ------------------\n",
    " #  09/18/2023      Initial Development                     N. James George\n",
    " #\n",
    " #******************************************************************************************/\n",
    "    \n",
    "import NoSQLSetUpSubRoutines as local_subroutine\n",
    "\n",
    "import PyLogFunctions as log_function\n",
    "import PyLogSubRoutines as log_subroutine\n",
    "\n",
    "import pandas as pd\n",
    "\n",
    "from pprint import pprint\n",
    "from pymongo import MongoClient"
   ]
  },
  {
   "cell_type": "code",
   "execution_count": 2,
   "id": "66e0bf40",
   "metadata": {},
   "outputs": [],
   "source": [
    "CONSTANT_LOCAL_FILE_NAME \\\n",
    "    = 'NoSQLSetup.ipynb'\n",
    "\n",
    "CONSTANT_COLLECTION_JSON_FILE \\\n",
    "    = './Resources/establishments.json'\n",
    "\n",
    "\n",
    "log_subroutine \\\n",
    "    .SetLogMode \\\n",
    "        (False)\n",
    "\n",
    "log_subroutine \\\n",
    "    .SetDebugMode \\\n",
    "        (False)\n",
    "\n",
    "log_subroutine \\\n",
    "    .SetImageMode \\\n",
    "        (False)\n",
    "\n",
    "\n",
    "log_subroutine \\\n",
    "    .BeginProgramExecution \\\n",
    "        ('NoSQLSetup')"
   ]
  },
  {
   "cell_type": "markdown",
   "id": "9aa92a05",
   "metadata": {},
   "source": [
    "# <br> **Section 1: Database and Jupyter Notebook Set Up**"
   ]
  },
  {
   "cell_type": "markdown",
   "id": "e5a4dca1",
   "metadata": {},
   "source": [
    "## **MongoDB Client**"
   ]
  },
  {
   "cell_type": "code",
   "execution_count": 3,
   "id": "636f5f04",
   "metadata": {},
   "outputs": [],
   "source": [
    "# This line of code creates an instance of a MongoDB client and\n",
    "# assigns it to a variable.\n",
    "currentPyMongoClientObject \\\n",
    "    = MongoClient \\\n",
    "        (port \\\n",
    "             = 27017)\n",
    "\n",
    "\n",
    "log_function \\\n",
    "    .DebugReturnObjectWriteObject \\\n",
    "        (currentPyMongoClientObject)"
   ]
  },
  {
   "cell_type": "markdown",
   "id": "85dae857",
   "metadata": {},
   "source": [
    "## **MongoDB Database**"
   ]
  },
  {
   "cell_type": "code",
   "execution_count": 4,
   "id": "a62eb5fc",
   "metadata": {},
   "outputs": [],
   "source": [
    "# This selection statement deletes the MongoDB Database, uk_food,\n",
    "# if it already exists.\n",
    "if 'uk_food' in currentPyMongoClientObject.list_database_names():\n",
    "    \n",
    "    currentPyMongoClientObject \\\n",
    "        .drop_database \\\n",
    "            ('uk_food')"
   ]
  },
  {
   "cell_type": "code",
   "execution_count": 5,
   "id": "1215928a",
   "metadata": {},
   "outputs": [],
   "source": [
    "# This line of code creates a PyMongo Database Object for the database, \n",
    "# uk_food, and assigns it to a variable.\n",
    "currentPyMongoDatabaseObject \\\n",
    "    = currentPyMongoClientObject \\\n",
    "        .uk_food\n",
    "\n",
    "\n",
    "log_function \\\n",
    "    .DebugReturnObjectWriteObject \\\n",
    "        (str(currentPyMongoDatabaseObject))"
   ]
  },
  {
   "cell_type": "markdown",
   "id": "98224f12",
   "metadata": {},
   "source": [
    "## **MongoDB Collection**"
   ]
  },
  {
   "cell_type": "code",
   "execution_count": 6,
   "id": "2931ff01",
   "metadata": {},
   "outputs": [],
   "source": [
    "# This line of code creates a PyMongo Collection Object for the collection,\n",
    "# establishments, and assigns it to a variable.\n",
    "currentPyMongoCollectionObject \\\n",
    "    = currentPyMongoDatabaseObject \\\n",
    "        .establishments\n",
    "\n",
    "\n",
    "log_function \\\n",
    "    .DebugReturnObjectWriteObject \\\n",
    "        (str(currentPyMongoCollectionObject))"
   ]
  },
  {
   "cell_type": "markdown",
   "id": "95f57c20",
   "metadata": {},
   "source": [
    "## **Populate MongoDB Collection**"
   ]
  },
  {
   "cell_type": "markdown",
   "id": "c5cef253",
   "metadata": {},
   "source": [
    "### mongoimport --db uk_food --collection establishments --drop --file establishments.json --jsonArray"
   ]
  },
  {
   "cell_type": "code",
   "execution_count": 7,
   "id": "930fa903",
   "metadata": {},
   "outputs": [],
   "source": [
    "# This subroutine imports JSON data from the JSON file, establishments.json, \n",
    "# in the Resources folder.\n",
    "local_subroutine \\\n",
    "    .InsertJSONFileIntoMongoDBCollection \\\n",
    "        (currentPyMongoCollectionObject,\n",
    "         CONSTANT_COLLECTION_JSON_FILE)"
   ]
  },
  {
   "cell_type": "markdown",
   "id": "13620970",
   "metadata": {},
   "source": [
    "## **MongoDB Database Confirmation**"
   ]
  },
  {
   "cell_type": "code",
   "execution_count": 8,
   "id": "94e64c01",
   "metadata": {},
   "outputs": [
    {
     "name": "stdout",
     "output_type": "stream",
     "text": [
      "\u001b[1mHere is a List of the current MongoDB Databases:\n",
      "\u001b[0m['admin', 'config', 'epa', 'fruits_db', 'local', 'met', 'petsitly_marketing', 'uk_food']\n",
      "\u001b[1m\n",
      "The MongoDB Database, 'uk_food', is in the List of MongoDB Databases.\u001b[0m\n"
     ]
    }
   ],
   "source": [
    "# This line of code lists all the MongoDB Databases to confirm the existence \n",
    "# of the database, uk_food.\n",
    "log_subroutine \\\n",
    "    .PrintAndLogWriteText \\\n",
    "        ('\\033[1m' \\\n",
    "         + 'Here is a List of the current MongoDB Databases:\\n' \\\n",
    "         + '\\033[0m' \\\n",
    "         + str \\\n",
    "                (currentPyMongoClientObject \\\n",
    "                    .list_database_names()))\n",
    "\n",
    "\n",
    "if 'uk_food' in currentPyMongoClientObject.list_database_names():\n",
    "     \n",
    "    log_subroutine \\\n",
    "        .PrintAndLogWriteText \\\n",
    "            ('\\033[1m' \\\n",
    "             + \"\\nThe MongoDB Database, 'uk_food', is in the List \" \\\n",
    "             + 'of MongoDB Databases.' \\\n",
    "             + '\\033[0m')\n",
    "    \n",
    "else:\n",
    "    \n",
    "    log_subroutine \\\n",
    "        .PrintAndLogWriteText \\\n",
    "            ('\\033[1m' \\\n",
    "             + \"\\nThe MongoDB Database, 'uk_food', is NOT in the List. \" \\\n",
    "             + 'Please run NoSQLSetup.ipynb before proceeding!' \\\n",
    "             + '\\033[0m') "
   ]
  },
  {
   "cell_type": "markdown",
   "id": "f67f502c",
   "metadata": {},
   "source": [
    "## **MongoDB Collection Confirmation**"
   ]
  },
  {
   "cell_type": "code",
   "execution_count": 9,
   "id": "5a3aa505",
   "metadata": {},
   "outputs": [
    {
     "name": "stdout",
     "output_type": "stream",
     "text": [
      "\u001b[1mHere is a List of the current Collections in the MongoDB Database, uk_food:\n",
      "\u001b[0m['establishments']\n",
      "\u001b[1m\n",
      "The Collection, 'establishments', is in the MongoDB Database, 'uk_food'.\u001b[0m\n"
     ]
    }
   ],
   "source": [
    "# These lines of code list all the Collections in the MongoDB database, \n",
    "# uk_food, and confirm the existence of the Collection, establishments.\n",
    "log_subroutine \\\n",
    "    .PrintAndLogWriteText \\\n",
    "        ('\\033[1m' \\\n",
    "         + 'Here is a List of the current Collections ' \\\n",
    "         + 'in the MongoDB Database, uk_food:\\n' \\\n",
    "         + '\\033[0m' \\\n",
    "         + str \\\n",
    "            (currentPyMongoDatabaseObject \\\n",
    "                .list_collection_names()))\n",
    "\n",
    "\n",
    "if 'establishments' in currentPyMongoDatabaseObject.list_collection_names():\n",
    "     \n",
    "    log_subroutine \\\n",
    "        .PrintAndLogWriteText \\\n",
    "            ('\\033[1m' \\\n",
    "             + \"\\nThe Collection, 'establishments', \" \\\n",
    "             + \"is in the MongoDB Database, 'uk_food'.\" \\\n",
    "             + '\\033[0m')\n",
    "    \n",
    "else:\n",
    "    \n",
    "    log_subroutine \\\n",
    "        .PrintAndLogWriteText \\\n",
    "            ('\\033[1m' \\\n",
    "             + \"\\nThe Collection, 'establishments', \" \\\n",
    "             + \"is NOT in the MongoDB database, 'uk_food'. \" \\\n",
    "             + 'Please run NoSQLSetup.ipynb before proceeding!' \\\n",
    "             + '\\033[0m')"
   ]
  },
  {
   "cell_type": "code",
   "execution_count": 10,
   "id": "8458f96b",
   "metadata": {},
   "outputs": [
    {
     "name": "stdout",
     "output_type": "stream",
     "text": [
      "\u001b[1mThere are 39,779 documents in the Collection, establishments.\u001b[0m\n"
     ]
    }
   ],
   "source": [
    "# These lines of code display the number of documents in the Collection,\n",
    "# establishments.\n",
    "numberOfDocumentsInteger \\\n",
    "    = currentPyMongoCollectionObject \\\n",
    "        .count_documents({})\n",
    "\n",
    "log_subroutine \\\n",
    "    .PrintAndLogWriteText \\\n",
    "        ('\\033[1m' \\\n",
    "         + 'There are {:,} documents in the Collection, establishments.' \\\n",
    "             .format \\\n",
    "                 (numberOfDocumentsInteger) \\\n",
    "         + '\\033[0m')"
   ]
  },
  {
   "cell_type": "markdown",
   "id": "36aee147",
   "metadata": {},
   "source": [
    "## **Establishments Collection Document Review**"
   ]
  },
  {
   "cell_type": "code",
   "execution_count": 11,
   "id": "a050c5e2",
   "metadata": {},
   "outputs": [
    {
     "name": "stdout",
     "output_type": "stream",
     "text": [
      "{'AddressLine1': 'The Bay',\n",
      " 'AddressLine2': 'St Margarets Bay',\n",
      " 'AddressLine3': 'Kent',\n",
      " 'AddressLine4': '',\n",
      " 'BusinessName': 'Refreshment Kiosk',\n",
      " 'BusinessType': 'Restaurant/Cafe/Canteen',\n",
      " 'BusinessTypeID': 1,\n",
      " 'ChangesByServerID': 0,\n",
      " 'Distance': 4587.347174863443,\n",
      " 'FHRSID': 254719,\n",
      " 'LocalAuthorityBusinessID': 'PI/000069980',\n",
      " 'LocalAuthorityCode': '182',\n",
      " 'LocalAuthorityEmailAddress': 'publicprotection@dover.gov.uk',\n",
      " 'LocalAuthorityName': 'Dover',\n",
      " 'LocalAuthorityWebSite': 'http://www.dover.gov.uk/',\n",
      " 'NewRatingPending': False,\n",
      " 'Phone': '',\n",
      " 'PostCode': 'CT15 6DY',\n",
      " 'RatingDate': '2022-03-24',\n",
      " 'RatingKey': 'fhrs_5_en-gb',\n",
      " 'RatingValue': '5',\n",
      " 'RightToReply': '',\n",
      " 'SchemeType': 'FHRS',\n",
      " '_id': ObjectId('651912400b40cfb3926e493a'),\n",
      " 'geocode': {'latitude': '51.152225', 'longitude': '1.387974'},\n",
      " 'links': [{'href': 'https://api.ratings.food.gov.uk/establishments/254719',\n",
      "            'rel': 'self'}],\n",
      " 'meta': {'dataSource': None,\n",
      "          'extractDate': '0001-01-01T00:00:00',\n",
      "          'itemCount': 0,\n",
      "          'pageNumber': 0,\n",
      "          'pageSize': 0,\n",
      "          'returncode': None,\n",
      "          'totalCount': 0,\n",
      "          'totalPages': 0},\n",
      " 'scores': {'ConfidenceInManagement': 5, 'Hygiene': 0, 'Structural': 5}}\n"
     ]
    }
   ],
   "source": [
    "# These lines of code find and display one document from the Collection, \n",
    "# establishments.\n",
    "pprint \\\n",
    "    (currentPyMongoDatabaseObject \\\n",
    "         .establishments \\\n",
    "             .find_one())"
   ]
  },
  {
   "cell_type": "markdown",
   "id": "703be79c",
   "metadata": {},
   "source": [
    "# <br> **Section 2: Update the Database**"
   ]
  },
  {
   "cell_type": "markdown",
   "id": "f79ca86f",
   "metadata": {},
   "source": [
    "## **1. An exciting new halal restaurant just opened in Greenwich, but hasn't been rated yet. The magazine has asked you to include it in your analysis. Add the following restaurant \"Penang Flavours\" to the database.**"
   ]
  },
  {
   "cell_type": "markdown",
   "id": "ebb55303",
   "metadata": {},
   "source": [
    "### New Restaurant Dictionary"
   ]
  },
  {
   "cell_type": "code",
   "execution_count": 12,
   "id": "92ae83cb",
   "metadata": {},
   "outputs": [],
   "source": [
    "# This Dictionary holds all the pertinent information for the new \n",
    "# halal restaurant in Greenwich, Penang Flavours.\n",
    "newRestaurantDictionary \\\n",
    "    = {'BusinessName':\n",
    "           'Penang Flavours',\n",
    "       'BusinessType':\n",
    "           'Restaurant/Cafe/Canteen',\n",
    "       'BusinessTypeID':'',\n",
    "       'AddressLine1':\n",
    "           'Penang Flavours',\n",
    "       'AddressLine2':\n",
    "           '146A Plumstead Rd',\n",
    "       'AddressLine3':\n",
    "           'London',\n",
    "       'AddressLine4':'',\n",
    "       'PostCode':\n",
    "           'SE18 7DY',\n",
    "       'Phone':\n",
    "           '',\n",
    "       'LocalAuthorityCode':\n",
    "           '511',\n",
    "       'LocalAuthorityName':\n",
    "           'Greenwich',\n",
    "       'LocalAuthorityWebSite':\n",
    "           'http://www.royalgreenwich.gov.uk',\n",
    "       'LocalAuthorityEmailAddress':\n",
    "           'health@royalgreenwich.gov.uk',\n",
    "       'scores': \\\n",
    "           {'Hygiene':\n",
    "                '',\n",
    "            'Structural'\n",
    "                :'',\n",
    "            'ConfidenceInManagement'\n",
    "                :''},\n",
    "        'SchemeType':\n",
    "           'FHRS',\n",
    "        'geocode':\n",
    "           {'longitude':\n",
    "                '0.08384000',\n",
    "            'latitude':\n",
    "                '51.49014200'},\n",
    "        'RightToReply':\n",
    "           '',\n",
    "        'Distance':\n",
    "           4623.9723280747176,\n",
    "        'NewRatingPending':\n",
    "           True}"
   ]
  },
  {
   "cell_type": "markdown",
   "id": "939c39dd",
   "metadata": {},
   "source": [
    "### Insert New Restaurant Dictionary into MongoDB Collection"
   ]
  },
  {
   "cell_type": "code",
   "execution_count": 13,
   "id": "f78e93bc",
   "metadata": {},
   "outputs": [
    {
     "data": {
      "text/plain": [
       "<pymongo.results.InsertOneResult at 0x15621b190>"
      ]
     },
     "execution_count": 13,
     "metadata": {},
     "output_type": "execute_result"
    }
   ],
   "source": [
    "# These lines of code insert the Penang Flavours's Dictionary\n",
    "# into the Collection, establishments, if it does not already\n",
    "# exist.  If it does exist, the script deletes the document(s)\n",
    "# before inserting the Dictionary.\n",
    "queryDictionary \\\n",
    "    = {'BusinessName': newRestaurantDictionary['BusinessName']}\n",
    "\n",
    "if currentPyMongoCollectionObject \\\n",
    "    .find_one \\\n",
    "        (queryDictionary) != None:\n",
    "    \n",
    "    numberOfDocumentsInteger \\\n",
    "        = currentPyMongoCollectionObject \\\n",
    "            .count_documents \\\n",
    "                (queryDictionary)\n",
    "    \n",
    "    if numberOfDocumentsInteger > 1:\n",
    "    \n",
    "        currentPyMongoCollectionObject \\\n",
    "            .delete_many \\\n",
    "                (queryDictionary)\n",
    "    \n",
    "    else:\n",
    "    \n",
    "        currentPyMongoCollectionObject \\\n",
    "            .delete_one \\\n",
    "                (queryDictionary)\n",
    "    \n",
    "    \n",
    "currentPyMongoCollectionObject \\\n",
    "    .insert_one \\\n",
    "        (newRestaurantDictionary)"
   ]
  },
  {
   "cell_type": "markdown",
   "id": "efa445bc",
   "metadata": {},
   "source": [
    "### New Restaurant Document Confirmation"
   ]
  },
  {
   "cell_type": "code",
   "execution_count": 14,
   "id": "91029379",
   "metadata": {},
   "outputs": [
    {
     "name": "stdout",
     "output_type": "stream",
     "text": [
      "\u001b[1mThere is 1 document for the restaurant, Penang Flavors, in the Collection, establishments.\u001b[0m\n"
     ]
    }
   ],
   "source": [
    "# These lines of code display the number of Penang Flavour documents \n",
    "# in the Collection, establishments.\n",
    "queryDictionary \\\n",
    "    = {'BusinessName': newRestaurantDictionary['BusinessName']}\n",
    "\n",
    "numberOfDocumentsInteger \\\n",
    "    = currentPyMongoCollectionObject \\\n",
    "        .count_documents \\\n",
    "            (queryDictionary)\n",
    "\n",
    "log_subroutine \\\n",
    "    .PrintAndLogWriteText \\\n",
    "        ('\\033[1m' \\\n",
    "         + 'There is {:,} document for the restaurant, ' \\\n",
    "             .format \\\n",
    "                 (numberOfDocumentsInteger) \\\n",
    "         + 'Penang Flavors, in the Collection, establishments.' \\\n",
    "         + '\\033[0m')"
   ]
  },
  {
   "cell_type": "code",
   "execution_count": 15,
   "id": "00f49f19",
   "metadata": {},
   "outputs": [
    {
     "data": {
      "text/plain": [
       "{'_id': ObjectId('651912400b40cfb3926ee49d'),\n",
       " 'BusinessName': 'Penang Flavours',\n",
       " 'BusinessType': 'Restaurant/Cafe/Canteen',\n",
       " 'BusinessTypeID': '',\n",
       " 'AddressLine1': 'Penang Flavours',\n",
       " 'AddressLine2': '146A Plumstead Rd',\n",
       " 'AddressLine3': 'London',\n",
       " 'AddressLine4': '',\n",
       " 'PostCode': 'SE18 7DY',\n",
       " 'Phone': '',\n",
       " 'LocalAuthorityCode': '511',\n",
       " 'LocalAuthorityName': 'Greenwich',\n",
       " 'LocalAuthorityWebSite': 'http://www.royalgreenwich.gov.uk',\n",
       " 'LocalAuthorityEmailAddress': 'health@royalgreenwich.gov.uk',\n",
       " 'scores': {'Hygiene': '', 'Structural': '', 'ConfidenceInManagement': ''},\n",
       " 'SchemeType': 'FHRS',\n",
       " 'geocode': {'longitude': '0.08384000', 'latitude': '51.49014200'},\n",
       " 'RightToReply': '',\n",
       " 'Distance': 4623.972328074718,\n",
       " 'NewRatingPending': True}"
      ]
     },
     "execution_count": 15,
     "metadata": {},
     "output_type": "execute_result"
    }
   ],
   "source": [
    "# This line of code displays the one document about Penang Flavours.\n",
    "currentPyMongoCollectionObject \\\n",
    "    .find_one \\\n",
    "        ({'BusinessName':'Penang Flavours'})"
   ]
  },
  {
   "cell_type": "markdown",
   "id": "da97b326",
   "metadata": {},
   "source": [
    "## **2. Find the BusinessTypeID for \"Restaurant/Cafe/Canteen\" and return only the `BusinessTypeID` and `BusinessType` fields.**"
   ]
  },
  {
   "cell_type": "markdown",
   "id": "204c2b63",
   "metadata": {},
   "source": [
    "### Run Query"
   ]
  },
  {
   "cell_type": "code",
   "execution_count": 16,
   "id": "75e5fa7e",
   "metadata": {},
   "outputs": [
    {
     "data": {
      "text/plain": [
       "{'_id': ObjectId('651912400b40cfb3926e493a'),\n",
       " 'BusinessType': 'Restaurant/Cafe/Canteen',\n",
       " 'BusinessTypeID': 1}"
      ]
     },
     "execution_count": 16,
     "metadata": {},
     "output_type": "execute_result"
    }
   ],
   "source": [
    "# This query finds a document with the 'BusinessTypeID' for \n",
    "# 'Restaurant/Cafe/Canteen' and returns only the BusinessTypeID \n",
    "# and BusinessType fields.\n",
    "queryDictionary \\\n",
    "    = {'BusinessType': 'Restaurant/Cafe/Canteen'}\n",
    "\n",
    "fieldsList \\\n",
    "    = ['BusinessTypeID',\n",
    "       'BusinessType']\n",
    "\n",
    "\n",
    "currentPyMongoCollectionObject \\\n",
    "    .find_one \\\n",
    "        (queryDictionary, \n",
    "         fieldsList)"
   ]
  },
  {
   "cell_type": "markdown",
   "id": "44ca4ced",
   "metadata": {},
   "source": [
    "## **3. Update the new restaurant with the `BusinessTypeID` you found.**"
   ]
  },
  {
   "cell_type": "markdown",
   "id": "97050bf6",
   "metadata": {},
   "source": [
    "### Correct BusinessTypeID Update"
   ]
  },
  {
   "cell_type": "code",
   "execution_count": 17,
   "id": "9d7a333c",
   "metadata": {},
   "outputs": [
    {
     "data": {
      "text/plain": [
       "<pymongo.results.UpdateResult at 0x15621ba60>"
      ]
     },
     "execution_count": 17,
     "metadata": {},
     "output_type": "execute_result"
    }
   ],
   "source": [
    "# This query finds the Penang Flavours's document in the Collection, \n",
    "# establishments, and changes the 'BusinessTypeID' field from an\n",
    "# empty String to the Integer, 1.\n",
    "currentPyMongoCollectionObject \\\n",
    "    .update_one \\\n",
    "        (newRestaurantDictionary,\n",
    "         {'$set': {'BusinessTypeID': 1}})"
   ]
  },
  {
   "cell_type": "markdown",
   "id": "a680ff22",
   "metadata": {},
   "source": [
    "### Correct BusinessTypeID Confirmation"
   ]
  },
  {
   "cell_type": "code",
   "execution_count": 18,
   "id": "3fbd9b8e",
   "metadata": {},
   "outputs": [
    {
     "name": "stdout",
     "output_type": "stream",
     "text": [
      "\u001b[1mIn the Penang Flavours's document, the 'BusinessTypeID' is of type, <class 'int'>, and has a value of 1.\u001b[0m\n"
     ]
    }
   ],
   "source": [
    "# This query retrieves the Penang Flavours's document.\n",
    "currentDocumentDictionary \\\n",
    "    = currentPyMongoCollectionObject \\\n",
    "        .find_one \\\n",
    "            ({'BusinessName': 'Penang Flavours'})\n",
    "\n",
    "log_subroutine \\\n",
    "    .PrintAndLogWriteText \\\n",
    "        ('\\033[1m' \\\n",
    "         + \"In the Penang Flavours's document, the 'BusinessTypeID' is of type, \" \\\n",
    "         + f\"{type(currentDocumentDictionary['BusinessTypeID'])}, \" \\\n",
    "         + 'and has a value of {:,}.' \\\n",
    "                .format \\\n",
    "                    (currentDocumentDictionary \\\n",
    "                        ['BusinessTypeID']) \\\n",
    "         + '\\033[0m')"
   ]
  },
  {
   "cell_type": "code",
   "execution_count": 19,
   "id": "57b3922f",
   "metadata": {},
   "outputs": [
    {
     "name": "stdout",
     "output_type": "stream",
     "text": [
      "{'AddressLine1': 'Penang Flavours',\n",
      " 'AddressLine2': '146A Plumstead Rd',\n",
      " 'AddressLine3': 'London',\n",
      " 'AddressLine4': '',\n",
      " 'BusinessName': 'Penang Flavours',\n",
      " 'BusinessType': 'Restaurant/Cafe/Canteen',\n",
      " 'BusinessTypeID': 1,\n",
      " 'Distance': 4623.972328074718,\n",
      " 'LocalAuthorityCode': '511',\n",
      " 'LocalAuthorityEmailAddress': 'health@royalgreenwich.gov.uk',\n",
      " 'LocalAuthorityName': 'Greenwich',\n",
      " 'LocalAuthorityWebSite': 'http://www.royalgreenwich.gov.uk',\n",
      " 'NewRatingPending': True,\n",
      " 'Phone': '',\n",
      " 'PostCode': 'SE18 7DY',\n",
      " 'RightToReply': '',\n",
      " 'SchemeType': 'FHRS',\n",
      " '_id': ObjectId('651912400b40cfb3926ee49d'),\n",
      " 'geocode': {'latitude': '51.49014200', 'longitude': '0.08384000'},\n",
      " 'scores': {'ConfidenceInManagement': '', 'Hygiene': '', 'Structural': ''}}\n"
     ]
    }
   ],
   "source": [
    "# This line of code displays the Penang Flavours's document \n",
    "# for confirmation.\n",
    "pprint \\\n",
    "    (currentDocumentDictionary)"
   ]
  },
  {
   "cell_type": "markdown",
   "id": "e502b009",
   "metadata": {},
   "source": [
    "## **4. The magazine is not interested in any establishments in Dover, so check how many documents contain the Dover Local Authority. Then, remove any establishments within the Dover Local Authority from the database, and check the number of documents to ensure they were deleted.**"
   ]
  },
  {
   "cell_type": "markdown",
   "id": "91d1d84a",
   "metadata": {},
   "source": [
    "### Number of Documents with `LocalAuthorityName` as 'Dover'"
   ]
  },
  {
   "cell_type": "code",
   "execution_count": 20,
   "id": "b621379e",
   "metadata": {},
   "outputs": [
    {
     "name": "stdout",
     "output_type": "stream",
     "text": [
      "\u001b[1mThere are 994 documents with 'Dover' as their local authority name.\u001b[0m\n"
     ]
    }
   ],
   "source": [
    "# These lines of code display the number of documents in the Collection, \n",
    "# establishments, that have 'Dover' in the 'LocalAuthorityName' field.\n",
    "numberOfDocumentsInteger \\\n",
    "    = currentPyMongoCollectionObject \\\n",
    "        .count_documents \\\n",
    "            ({'LocalAuthorityName': 'Dover'})\n",
    "\n",
    "log_subroutine \\\n",
    "    .PrintAndLogWriteText \\\n",
    "        ('\\033[1m' \\\n",
    "         + \"There are {:,} documents with 'Dover' as their local authority name.\" \\\n",
    "            .format \\\n",
    "                (numberOfDocumentsInteger) \\\n",
    "         + '\\033[0m')"
   ]
  },
  {
   "cell_type": "markdown",
   "id": "5e6332a8",
   "metadata": {},
   "source": [
    "### Delete Documents with Dover as `LocalAuthorityName`"
   ]
  },
  {
   "cell_type": "code",
   "execution_count": 21,
   "id": "9ee812e0",
   "metadata": {},
   "outputs": [
    {
     "data": {
      "text/plain": [
       "<pymongo.results.DeleteResult at 0x15621b4f0>"
      ]
     },
     "execution_count": 21,
     "metadata": {},
     "output_type": "execute_result"
    }
   ],
   "source": [
    "# This query deletes all documents that have 'Dover' in the \n",
    "# 'LocalAuthorityName' field.\n",
    "currentPyMongoCollectionObject \\\n",
    "    .delete_many \\\n",
    "        ({'LocalAuthorityName': 'Dover'})"
   ]
  },
  {
   "cell_type": "markdown",
   "id": "e5f6a53f",
   "metadata": {},
   "source": [
    "### Deletion Confirmation"
   ]
  },
  {
   "cell_type": "code",
   "execution_count": 22,
   "id": "3f33d13a",
   "metadata": {},
   "outputs": [
    {
     "name": "stdout",
     "output_type": "stream",
     "text": [
      "\u001b[1mAfter the deletion, there are now 0 documents with 'Dover' as their local authority name.\u001b[0m\n"
     ]
    }
   ],
   "source": [
    "# These lines of code display the number of documents in the Collection, \n",
    "# establishments, that have 'Dover' in the 'LocalAuthorityName' field:\n",
    "# after the delection, there should be zero.\n",
    "numberOfDocumentsInteger \\\n",
    "    = currentPyMongoCollectionObject \\\n",
    "        .count_documents \\\n",
    "            ({'LocalAuthorityName': 'Dover'})\n",
    "\n",
    "log_subroutine \\\n",
    "    .PrintAndLogWriteText \\\n",
    "        ('\\033[1m' \\\n",
    "         \"After the deletion, there are now {:,} documents with 'Dover' \" \\\n",
    "             .format \\\n",
    "                (numberOfDocumentsInteger)\n",
    "         + 'as their local authority name.' \\\n",
    "         + '\\033[0m')"
   ]
  },
  {
   "cell_type": "markdown",
   "id": "a2469fa9",
   "metadata": {},
   "source": [
    "### PyMongo Function, `find_one`, Checks For Other Documents"
   ]
  },
  {
   "cell_type": "code",
   "execution_count": 23,
   "id": "6db39a4e",
   "metadata": {},
   "outputs": [
    {
     "name": "stdout",
     "output_type": "stream",
     "text": [
      "\u001b[1mAfter the deletion, there are now 38,786 documents in the Collection, establishments.\u001b[0m\n"
     ]
    }
   ],
   "source": [
    "numberOfDocumentsInteger \\\n",
    "    = currentPyMongoCollectionObject \\\n",
    "        .count_documents({})\n",
    "\n",
    "log_subroutine \\\n",
    "    .PrintAndLogWriteText \\\n",
    "        ('\\033[1m' \\\n",
    "         + \"After the deletion, there are now {:,} documents \" \\\n",
    "             .format \\\n",
    "                (numberOfDocumentsInteger)\n",
    "         + 'in the Collection, establishments.' \\\n",
    "         + '\\033[0m')"
   ]
  },
  {
   "cell_type": "code",
   "execution_count": 24,
   "id": "0ea7cffd",
   "metadata": {},
   "outputs": [
    {
     "data": {
      "text/plain": [
       "{'_id': ObjectId('651912400b40cfb3926e4c21'),\n",
       " 'FHRSID': 1043695,\n",
       " 'ChangesByServerID': 0,\n",
       " 'LocalAuthorityBusinessID': 'PI/000073616',\n",
       " 'BusinessName': 'The Pavilion',\n",
       " 'BusinessType': 'Restaurant/Cafe/Canteen',\n",
       " 'BusinessTypeID': 1,\n",
       " 'AddressLine1': 'East Cliff Pavilion',\n",
       " 'AddressLine2': 'Wear Bay Road',\n",
       " 'AddressLine3': 'Folkestone',\n",
       " 'AddressLine4': 'Kent',\n",
       " 'PostCode': 'CT19 6BL',\n",
       " 'Phone': '',\n",
       " 'RatingValue': '5',\n",
       " 'RatingKey': 'fhrs_5_en-gb',\n",
       " 'RatingDate': '2018-04-04',\n",
       " 'LocalAuthorityCode': '188',\n",
       " 'LocalAuthorityName': 'Folkestone and Hythe',\n",
       " 'LocalAuthorityWebSite': 'http://www.folkestone-hythe.gov.uk',\n",
       " 'LocalAuthorityEmailAddress': 'foodteam@folkestone-hythe.gov.uk',\n",
       " 'scores': {'Hygiene': 5, 'Structural': 5, 'ConfidenceInManagement': 5},\n",
       " 'SchemeType': 'FHRS',\n",
       " 'geocode': {'longitude': '1.195625', 'latitude': '51.083812'},\n",
       " 'RightToReply': '',\n",
       " 'Distance': 4591.765489457773,\n",
       " 'NewRatingPending': False,\n",
       " 'meta': {'dataSource': None,\n",
       "  'extractDate': '0001-01-01T00:00:00',\n",
       "  'itemCount': 0,\n",
       "  'returncode': None,\n",
       "  'totalCount': 0,\n",
       "  'totalPages': 0,\n",
       "  'pageSize': 0,\n",
       "  'pageNumber': 0},\n",
       " 'links': [{'rel': 'self',\n",
       "   'href': 'https://api.ratings.food.gov.uk/establishments/1043695'}]}"
      ]
     },
     "execution_count": 24,
     "metadata": {},
     "output_type": "execute_result"
    }
   ],
   "source": [
    "# This line of code displays one record from the Collection, \n",
    "# establishments.\n",
    "currentPyMongoCollectionObject \\\n",
    "    .find_one()"
   ]
  },
  {
   "cell_type": "markdown",
   "id": "95c381c4",
   "metadata": {},
   "source": [
    "## **5. Some of the number values are stored as strings, when they should be stored as numbers.**"
   ]
  },
  {
   "cell_type": "markdown",
   "id": "60cdb477",
   "metadata": {},
   "source": [
    "### PyMongo Subroutine, `update_many`, Converts `latitude` And `longitude` To Numbers."
   ]
  },
  {
   "cell_type": "code",
   "execution_count": 25,
   "id": "d6b248a5",
   "metadata": {},
   "outputs": [
    {
     "data": {
      "text/plain": [
       "<pymongo.results.UpdateResult at 0x1ee7acd30>"
      ]
     },
     "execution_count": 25,
     "metadata": {},
     "output_type": "execute_result"
    }
   ],
   "source": [
    "# This line of code changes all the 'latitude' fields from Strings to Doubles\n",
    "# in the Collection, establishments.\n",
    "currentPyMongoCollectionObject \\\n",
    "    .update_many \\\n",
    "        ({}, \n",
    "         [{'$set': {'geocode.longitude': {'$toDouble': '$geocode.longitude'}}}])"
   ]
  },
  {
   "cell_type": "code",
   "execution_count": 26,
   "id": "0e28cb8f",
   "metadata": {},
   "outputs": [
    {
     "data": {
      "text/plain": [
       "<pymongo.results.UpdateResult at 0x15596fb50>"
      ]
     },
     "execution_count": 26,
     "metadata": {},
     "output_type": "execute_result"
    }
   ],
   "source": [
    "# This line of code changes all the 'latitude' fields from Strings to Doubles\n",
    "# in the Collection, establishments.\n",
    "currentPyMongoCollectionObject \\\n",
    "    .update_many \\\n",
    "        ({}, \n",
    "         [{'$set': {'geocode.latitude': {'$toDouble': '$geocode.latitude'}}}])"
   ]
  },
  {
   "cell_type": "markdown",
   "id": "16f7713a",
   "metadata": {},
   "source": [
    "### PyMongo Subroutine,  `update_many`, Converts `RatingValue` To Integer Numbers"
   ]
  },
  {
   "cell_type": "code",
   "execution_count": 27,
   "id": "1759f267",
   "metadata": {},
   "outputs": [
    {
     "name": "stdout",
     "output_type": "stream",
     "text": [
      "['0', 'Awaiting Inspection', 'AwaitingInspection', 'AwaitingPublication', 'Exempt', 'Pass']\n"
     ]
    }
   ],
   "source": [
    "# The script will convert the ratings, '1' to '5', to Integers, but there\n",
    "# are other values that will be set to None before the conversion.\n",
    "# These lines of code create the non-valid ratings List.\n",
    "validRatingsValueList \\\n",
    "    = ['1', \n",
    "       '2', \n",
    "       '3', \n",
    "       '4', \n",
    "       '5']\n",
    "\n",
    "queryDictionary \\\n",
    "    = {'RatingValue': {'$nin': validRatingsValueList}}\n",
    "\n",
    "nonValidRatingsValueList \\\n",
    "    = currentPyMongoCollectionObject \\\n",
    "        .find \\\n",
    "            (queryDictionary) \\\n",
    "        .distinct \\\n",
    "            ('RatingValue')\n",
    "\n",
    "\n",
    "log_subroutine \\\n",
    "    .PrintAndLogWriteText \\\n",
    "        (str \\\n",
    "             (nonValidRatingsValueList))"
   ]
  },
  {
   "cell_type": "code",
   "execution_count": 28,
   "id": "7bcd9f2f",
   "metadata": {},
   "outputs": [
    {
     "data": {
      "text/plain": [
       "<pymongo.results.UpdateResult at 0x15621b5e0>"
      ]
     },
     "execution_count": 28,
     "metadata": {},
     "output_type": "execute_result"
    }
   ],
   "source": [
    "# This line of code sets the non-valid values in each document's \n",
    "# 'RatingValue' field to None.\n",
    "currentPyMongoCollectionObject \\\n",
    "    .update_many \\\n",
    "        ({'RatingValue': {'$in': nonValidRatingsValueList}}, \n",
    "         [{'$set': {'RatingValue': None}}])"
   ]
  },
  {
   "cell_type": "code",
   "execution_count": 29,
   "id": "cf7aff70",
   "metadata": {},
   "outputs": [
    {
     "data": {
      "text/plain": [
       "<pymongo.results.UpdateResult at 0x15621b730>"
      ]
     },
     "execution_count": 29,
     "metadata": {},
     "output_type": "execute_result"
    }
   ],
   "source": [
    "# This line of code changes the 'RatingValue' field data type from String \n",
    "# to Integer: this will only affect the fields with values from 1 to 5.\n",
    "currentPyMongoCollectionObject \\\n",
    "    .update_many \\\n",
    "        ({}, \n",
    "         [{'$set': {'RatingValue': {'$toInt': '$RatingValue'}}}])"
   ]
  },
  {
   "cell_type": "markdown",
   "id": "5491bc1b",
   "metadata": {},
   "source": [
    "### Data Conversion Check"
   ]
  },
  {
   "cell_type": "code",
   "execution_count": 30,
   "id": "c3ec37ed",
   "metadata": {},
   "outputs": [
    {
     "data": {
      "text/plain": [
       "{'_id': ObjectId('651912400b40cfb3926e4c21'),\n",
       " 'FHRSID': 1043695,\n",
       " 'ChangesByServerID': 0,\n",
       " 'LocalAuthorityBusinessID': 'PI/000073616',\n",
       " 'BusinessName': 'The Pavilion',\n",
       " 'BusinessType': 'Restaurant/Cafe/Canteen',\n",
       " 'BusinessTypeID': 1,\n",
       " 'AddressLine1': 'East Cliff Pavilion',\n",
       " 'AddressLine2': 'Wear Bay Road',\n",
       " 'AddressLine3': 'Folkestone',\n",
       " 'AddressLine4': 'Kent',\n",
       " 'PostCode': 'CT19 6BL',\n",
       " 'Phone': '',\n",
       " 'RatingValue': 5,\n",
       " 'RatingKey': 'fhrs_5_en-gb',\n",
       " 'RatingDate': '2018-04-04',\n",
       " 'LocalAuthorityCode': '188',\n",
       " 'LocalAuthorityName': 'Folkestone and Hythe',\n",
       " 'LocalAuthorityWebSite': 'http://www.folkestone-hythe.gov.uk',\n",
       " 'LocalAuthorityEmailAddress': 'foodteam@folkestone-hythe.gov.uk',\n",
       " 'scores': {'Hygiene': 5, 'Structural': 5, 'ConfidenceInManagement': 5},\n",
       " 'SchemeType': 'FHRS',\n",
       " 'geocode': {'longitude': 1.195625, 'latitude': 51.083812},\n",
       " 'RightToReply': '',\n",
       " 'Distance': 4591.765489457773,\n",
       " 'NewRatingPending': False,\n",
       " 'meta': {'dataSource': None,\n",
       "  'extractDate': '0001-01-01T00:00:00',\n",
       "  'itemCount': 0,\n",
       "  'returncode': None,\n",
       "  'totalCount': 0,\n",
       "  'totalPages': 0,\n",
       "  'pageSize': 0,\n",
       "  'pageNumber': 0},\n",
       " 'links': [{'rel': 'self',\n",
       "   'href': 'https://api.ratings.food.gov.uk/establishments/1043695'}]}"
      ]
     },
     "execution_count": 30,
     "metadata": {},
     "output_type": "execute_result"
    }
   ],
   "source": [
    "# This query returns a single document from the Collection, establishments,\n",
    "# for visual confirmation of data type conversions.\n",
    "currentPyMongoCollectionObject \\\n",
    "    .find_one()"
   ]
  },
  {
   "cell_type": "markdown",
   "id": "85ed4bfd",
   "metadata": {},
   "source": [
    "### `latitude` Data Conversion Check"
   ]
  },
  {
   "cell_type": "code",
   "execution_count": 31,
   "id": "c0c3065a",
   "metadata": {},
   "outputs": [
    {
     "name": "stdout",
     "output_type": "stream",
     "text": [
      "\u001b[1mThere are 0 documents in the collection, establishments, where the 'latitude' field is NOT data type, 'double'.\u001b[0m\n"
     ]
    }
   ],
   "source": [
    "numberOfDocumentsWithoutLatitudeDoubleTypeInteger \\\n",
    "    = currentPyMongoCollectionObject \\\n",
    "        .count_documents \\\n",
    "            ({'geocode.latitude': {'$not': {'$type': 'double'}}})\n",
    "\n",
    "log_subroutine \\\n",
    "    .PrintAndLogWriteText \\\n",
    "        ('\\033[1m' \\\n",
    "         + 'There are {:,} documents in the collection, establishments, ' \\\n",
    "              .format \\\n",
    "                  (numberOfDocumentsWithoutLatitudeDoubleTypeInteger)\n",
    "         + \"where the 'latitude' field is NOT data type, 'double'.\" \\\n",
    "         + '\\033[0m')"
   ]
  },
  {
   "cell_type": "code",
   "execution_count": 32,
   "id": "cbadbed9",
   "metadata": {},
   "outputs": [
    {
     "name": "stdout",
     "output_type": "stream",
     "text": [
      "\u001b[1mThe data type for the 'latitude' field of a random document is <class 'float'>.\u001b[0m\n"
     ]
    }
   ],
   "source": [
    "currentRestaurantDictionary \\\n",
    "    = currentPyMongoCollectionObject \\\n",
    "        .find_one()\n",
    "\n",
    "latitudeDataTypeObject \\\n",
    "    = type \\\n",
    "        (currentRestaurantDictionary \\\n",
    "            ['geocode'] \\\n",
    "            ['latitude'])\n",
    "\n",
    "log_subroutine \\\n",
    "    .PrintAndLogWriteText \\\n",
    "        ('\\033[1m' \\\n",
    "         + \"The data type for the 'latitude' field of a random document is \" \\\n",
    "         + f'{latitudeDataTypeObject}.' \\\n",
    "         + '\\033[0m')"
   ]
  },
  {
   "cell_type": "markdown",
   "id": "391cecd9",
   "metadata": {},
   "source": [
    "### `longitude` Data Conversion Check"
   ]
  },
  {
   "cell_type": "code",
   "execution_count": 33,
   "id": "d1f8b44e",
   "metadata": {},
   "outputs": [
    {
     "name": "stdout",
     "output_type": "stream",
     "text": [
      "\u001b[1mThere are 0 documents in the collection, establishments, where the 'longitude' field is NOT data type, 'double'.\u001b[0m\n"
     ]
    }
   ],
   "source": [
    "numberOfDocumentsWithoutLongitudeDoubleTypeInteger \\\n",
    "    = currentPyMongoCollectionObject \\\n",
    "        .count_documents \\\n",
    "            ({'geocode.longitude': {'$not': {'$type': 'double'}}})\n",
    "\n",
    "log_subroutine \\\n",
    "    .PrintAndLogWriteText \\\n",
    "        ('\\033[1m' \\\n",
    "         + 'There are {:,} documents in the collection, establishments, ' \\\n",
    "              .format \\\n",
    "                  (numberOfDocumentsWithoutLatitudeDoubleTypeInteger)\n",
    "         + \"where the 'longitude' field is NOT data type, 'double'.\" \\\n",
    "         + '\\033[0m')"
   ]
  },
  {
   "cell_type": "code",
   "execution_count": 34,
   "id": "f7fd30a6",
   "metadata": {},
   "outputs": [
    {
     "name": "stdout",
     "output_type": "stream",
     "text": [
      "\u001b[1mThe data type for the 'longitude' field of a random document is <class 'float'>.\u001b[0m\n"
     ]
    }
   ],
   "source": [
    "currentRestaurantDictionary \\\n",
    "    = currentPyMongoCollectionObject \\\n",
    "        .find_one()\n",
    "\n",
    "longitudeDataTypeObject \\\n",
    "    = type \\\n",
    "        (currentRestaurantDictionary \\\n",
    "            ['geocode'] \\\n",
    "            ['longitude'])\n",
    "\n",
    "log_subroutine \\\n",
    "    .PrintAndLogWriteText \\\n",
    "        ('\\033[1m' \\\n",
    "         + \"The data type for the 'longitude' field of a random document is \" \\\n",
    "         + f'{longitudeDataTypeObject}.' \\\n",
    "         + '\\033[0m')"
   ]
  },
  {
   "cell_type": "markdown",
   "id": "3e0f1e72",
   "metadata": {},
   "source": [
    "### `RatingValue` Data Conversion Check"
   ]
  },
  {
   "cell_type": "code",
   "execution_count": 35,
   "id": "6e60e55a",
   "metadata": {},
   "outputs": [
    {
     "name": "stdout",
     "output_type": "stream",
     "text": [
      "\u001b[1mThere are 0 documents in the collection, establishments, where the 'RatingValue' field is NOT data type, 'int'.\u001b[0m\n"
     ]
    }
   ],
   "source": [
    "numberOfDocumentsWithoutRatingValueIntegerTypeInteger \\\n",
    "    = currentPyMongoCollectionObject \\\n",
    "        .count_documents \\\n",
    "            ({'RatingValue': {'$not': {'$type': 'int'}}})\n",
    "\n",
    "log_subroutine \\\n",
    "    .PrintAndLogWriteText \\\n",
    "        ('\\033[1m' \\\n",
    "         + 'There are {:,} documents in the collection, establishments, ' \\\n",
    "              .format \\\n",
    "                  (numberOfDocumentsWithoutLatitudeDoubleTypeInteger)\n",
    "         + \"where the 'RatingValue' field is NOT data type, 'int'.\" \\\n",
    "         + '\\033[0m')"
   ]
  },
  {
   "cell_type": "code",
   "execution_count": 36,
   "id": "63276f35",
   "metadata": {},
   "outputs": [
    {
     "name": "stdout",
     "output_type": "stream",
     "text": [
      "\u001b[1mThe data type for the 'RatingValue' field of a random document is <class 'int'>.\u001b[0m\n"
     ]
    }
   ],
   "source": [
    "currentRestaurantDictionary \\\n",
    "    = currentPyMongoCollectionObject \\\n",
    "        .find_one()\n",
    "\n",
    "ratingValueDataTypeObject \\\n",
    "    = type \\\n",
    "        (currentRestaurantDictionary \\\n",
    "            ['RatingValue'])\n",
    "\n",
    "log_subroutine \\\n",
    "    .PrintAndLogWriteText \\\n",
    "        ('\\033[1m' \\\n",
    "         + \"The data type for the 'RatingValue' field of a random document is \" \\\n",
    "         + f'{ratingValueDataTypeObject}.' \\\n",
    "         + '\\033[0m')"
   ]
  },
  {
   "cell_type": "code",
   "execution_count": 37,
   "id": "f3f15687",
   "metadata": {},
   "outputs": [
    {
     "name": "stdout",
     "output_type": "stream",
     "text": [
      "\u001b[1mThe current values for the field, 'RatingValue', for all documents in the Collection, establishments, is [None, 1, 2, 3, 4, 5].\u001b[0m\n"
     ]
    }
   ],
   "source": [
    "currentRatingValueList \\\n",
    "    = currentPyMongoCollectionObject \\\n",
    "        .distinct \\\n",
    "            ('RatingValue')\n",
    "\n",
    "log_subroutine \\\n",
    "    .PrintAndLogWriteText \\\n",
    "        ('\\033[1m' \\\n",
    "         + \"The current values for the field, 'RatingValue', \" \\\n",
    "         + 'for all documents in the Collection, establishments, ' \\\n",
    "         + f'is {currentRatingValueList}.' \\\n",
    "         + '\\033[0m')"
   ]
  },
  {
   "cell_type": "code",
   "execution_count": 38,
   "id": "8ba86ded",
   "metadata": {},
   "outputs": [],
   "source": [
    "#log_subroutine \\\n",
    "#    .EndProgramExecution()"
   ]
  },
  {
   "cell_type": "code",
   "execution_count": null,
   "id": "6ad73eb8",
   "metadata": {},
   "outputs": [],
   "source": []
  }
 ],
 "metadata": {
  "kernelspec": {
   "display_name": "Python 3 (ipykernel)",
   "language": "python",
   "name": "python3"
  },
  "language_info": {
   "codemirror_mode": {
    "name": "ipython",
    "version": 3
   },
   "file_extension": ".py",
   "mimetype": "text/x-python",
   "name": "python",
   "nbconvert_exporter": "python",
   "pygments_lexer": "ipython3",
   "version": "3.11.4"
  }
 },
 "nbformat": 4,
 "nbformat_minor": 5
}
